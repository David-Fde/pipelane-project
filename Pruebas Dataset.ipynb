{
 "cells": [
  {
   "cell_type": "code",
   "execution_count": 2,
   "metadata": {},
   "outputs": [],
   "source": [
    "import pandas as pd"
   ]
  },
  {
   "cell_type": "code",
   "execution_count": 3,
   "metadata": {
    "scrolled": true
   },
   "outputs": [
    {
     "data": {
      "text/plain": [
       "0                               Iron Man\n",
       "1                    The Incredible Hulk\n",
       "2                             Iron Man 2\n",
       "3                                   Thor\n",
       "4     Captain America: The First Avenger\n",
       "5                           The Avengers\n",
       "6                             Iron Man 3\n",
       "7      Agents of S.H.I.E.L.D. (Season 1)\n",
       "8                   Thor: The Dark World\n",
       "9    Captain America: The Winter Soldier\n",
       "Name: Title, dtype: object"
      ]
     },
     "execution_count": 3,
     "metadata": {},
     "output_type": "execute_result"
    }
   ],
   "source": [
    "data = pd.read_csv(\"MCU.csv\",encoding='iso-8859-1')\n"
   ]
  },
  {
   "cell_type": "code",
   "execution_count": 4,
   "metadata": {},
   "outputs": [
    {
     "data": {
      "text/plain": [
       "0                               Iron Man\n",
       "1                    The Incredible Hulk\n",
       "2                             Iron Man 2\n",
       "3                                   Thor\n",
       "4     Captain America: The First Avenger\n",
       "5                           The Avengers\n",
       "6                             Iron Man 3\n",
       "7      Agents of S.H.I.E.L.D. (Season 1)\n",
       "8                   Thor: The Dark World\n",
       "9    Captain America: The Winter Soldier\n",
       "Name: Title, dtype: object"
      ]
     },
     "metadata": {},
     "output_type": "display_data"
    }
   ],
   "source": [
    "display(data['Title'].head(10))"
   ]
  },
  {
   "cell_type": "code",
   "execution_count": null,
   "metadata": {},
   "outputs": [],
   "source": []
  }
 ],
 "metadata": {
  "kernelspec": {
   "display_name": "Python 3",
   "language": "python",
   "name": "python3"
  },
  "language_info": {
   "codemirror_mode": {
    "name": "ipython",
    "version": 3
   },
   "file_extension": ".py",
   "mimetype": "text/x-python",
   "name": "python",
   "nbconvert_exporter": "python",
   "pygments_lexer": "ipython3",
   "version": "3.6.8"
  }
 },
 "nbformat": 4,
 "nbformat_minor": 2
}
