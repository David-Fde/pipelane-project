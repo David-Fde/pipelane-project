{
 "cells": [
  {
   "cell_type": "code",
   "execution_count": 158,
   "metadata": {},
   "outputs": [],
   "source": [
    "import os\n",
    "from dotenv import load_dotenv\n",
    "load_dotenv()\n",
    "import tmdbsimple as tmdb\n",
    "tmdb.API_KEY = os.getenv(\"TOKEN\")\n",
    "import pandas as pd\n",
    "import numpy as np"
   ]
  },
  {
   "cell_type": "code",
   "execution_count": 17,
   "metadata": {},
   "outputs": [],
   "source": [
    "mcu_df=pd.DataFrame()"
   ]
  },
  {
   "cell_type": "code",
   "execution_count": 134,
   "metadata": {},
   "outputs": [
    {
     "name": "stdout",
     "output_type": "stream",
     "text": [
      "Insert movie n1: spider man far from home\n"
     ]
    }
   ],
   "source": [
    "search = tmdb.Search()\n",
    "movie = search.movie(query=str(input('Insert movie n1: ')))"
   ]
  },
  {
   "cell_type": "code",
   "execution_count": 135,
   "metadata": {},
   "outputs": [
    {
     "data": {
      "text/plain": [
       "{'popularity': 126.529,\n",
       " 'vote_count': 4922,\n",
       " 'video': False,\n",
       " 'poster_path': '/lcq8dVxeeOqHvvgcte707K0KVx5.jpg',\n",
       " 'id': 429617,\n",
       " 'adult': False,\n",
       " 'backdrop_path': '/5myQbDzw3l8K9yofUXRJ4UTVgam.jpg',\n",
       " 'original_language': 'en',\n",
       " 'original_title': 'Spider-Man: Far from Home',\n",
       " 'genre_ids': [28, 12, 878],\n",
       " 'title': 'Spider-Man: Far from Home',\n",
       " 'vote_average': 7.6,\n",
       " 'overview': 'Peter Parker and his friends go on a summer trip to Europe. However, they will hardly be able to rest - Peter will have to agree to help Nick Fury uncover the mystery of creatures that cause natural disasters and destruction throughout the continent.',\n",
       " 'release_date': '2019-07-02'}"
      ]
     },
     "execution_count": 135,
     "metadata": {},
     "output_type": "execute_result"
    }
   ],
   "source": [
    "x = search.results\n",
    "x=x[0]\n",
    "x"
   ]
  },
  {
   "cell_type": "code",
   "execution_count": 145,
   "metadata": {},
   "outputs": [],
   "source": [
    "df=pd.DataFrame(x)\n",
    "df = df.drop(['popularity'],axis=1)\n",
    "df = df.drop(['vote_count'],axis=1)\n",
    "df = df.drop(['video'],axis=1)\n",
    "df = df.drop(['poster_path'],axis=1)\n",
    "df = df.drop(['id'],axis=1)\n",
    "df = df.drop(['adult'],axis=1)\n",
    "df = df.drop(['backdrop_path'],axis=1)\n",
    "df = df.drop(['genre_ids'],axis=1)\n",
    "df = df.reindex(columns=['title','vote_average','release_date','original_title','original_language','overview'])\n",
    "df=df.drop_duplicates()"
   ]
  },
  {
   "cell_type": "code",
   "execution_count": 137,
   "metadata": {},
   "outputs": [],
   "source": [
    "mcu_df=pd.concat([mcu_df,df])"
   ]
  },
  {
   "cell_type": "code",
   "execution_count": 149,
   "metadata": {},
   "outputs": [],
   "source": [
    "mcu_df=mcu_df.reset_index(drop=True)\n",
    "mcu_df.index = np.arange(1, len(mcu_df) + 1)"
   ]
  },
  {
   "cell_type": "code",
   "execution_count": 161,
   "metadata": {},
   "outputs": [
    {
     "data": {
      "text/html": [
       "<div>\n",
       "<style scoped>\n",
       "    .dataframe tbody tr th:only-of-type {\n",
       "        vertical-align: middle;\n",
       "    }\n",
       "\n",
       "    .dataframe tbody tr th {\n",
       "        vertical-align: top;\n",
       "    }\n",
       "\n",
       "    .dataframe thead th {\n",
       "        text-align: right;\n",
       "    }\n",
       "</style>\n",
       "<table border=\"1\" class=\"dataframe\">\n",
       "  <thead>\n",
       "    <tr style=\"text-align: right;\">\n",
       "      <th></th>\n",
       "      <th>title</th>\n",
       "      <th>vote_average</th>\n",
       "      <th>release_date</th>\n",
       "      <th>original_title</th>\n",
       "      <th>original_language</th>\n",
       "      <th>overview</th>\n",
       "    </tr>\n",
       "  </thead>\n",
       "  <tbody>\n",
       "    <tr>\n",
       "      <th>1</th>\n",
       "      <td>Captain America: The First Avenger</td>\n",
       "      <td>6.9</td>\n",
       "      <td>2011-07-22</td>\n",
       "      <td>Captain America: The First Avenger</td>\n",
       "      <td>en</td>\n",
       "      <td>During World War II, Steve Rogers is a sickly ...</td>\n",
       "    </tr>\n",
       "    <tr>\n",
       "      <th>2</th>\n",
       "      <td>Iron Man</td>\n",
       "      <td>7.6</td>\n",
       "      <td>2008-05-02</td>\n",
       "      <td>Iron Man</td>\n",
       "      <td>en</td>\n",
       "      <td>After being held captive in an Afghan cave, bi...</td>\n",
       "    </tr>\n",
       "    <tr>\n",
       "      <th>3</th>\n",
       "      <td>The Incredible Hulk</td>\n",
       "      <td>6.2</td>\n",
       "      <td>2008-06-12</td>\n",
       "      <td>The Incredible Hulk</td>\n",
       "      <td>en</td>\n",
       "      <td>Scientist Bruce Banner scours the planet for a...</td>\n",
       "    </tr>\n",
       "    <tr>\n",
       "      <th>4</th>\n",
       "      <td>Iron Man 2</td>\n",
       "      <td>6.8</td>\n",
       "      <td>2010-05-07</td>\n",
       "      <td>Iron Man 2</td>\n",
       "      <td>en</td>\n",
       "      <td>With the world now aware of his dual life as t...</td>\n",
       "    </tr>\n",
       "    <tr>\n",
       "      <th>5</th>\n",
       "      <td>Thor</td>\n",
       "      <td>6.7</td>\n",
       "      <td>2011-05-06</td>\n",
       "      <td>Thor</td>\n",
       "      <td>en</td>\n",
       "      <td>Against his father Odin's will, The Mighty Tho...</td>\n",
       "    </tr>\n",
       "    <tr>\n",
       "      <th>6</th>\n",
       "      <td>The Avengers</td>\n",
       "      <td>7.7</td>\n",
       "      <td>2012-05-04</td>\n",
       "      <td>The Avengers</td>\n",
       "      <td>en</td>\n",
       "      <td>When an unexpected enemy emerges and threatens...</td>\n",
       "    </tr>\n",
       "    <tr>\n",
       "      <th>7</th>\n",
       "      <td>Iron Man 3</td>\n",
       "      <td>6.9</td>\n",
       "      <td>2013-05-03</td>\n",
       "      <td>Iron Man 3</td>\n",
       "      <td>en</td>\n",
       "      <td>When Tony Stark's world is torn apart by a for...</td>\n",
       "    </tr>\n",
       "    <tr>\n",
       "      <th>8</th>\n",
       "      <td>Thor: The Dark World</td>\n",
       "      <td>6.6</td>\n",
       "      <td>2013-11-08</td>\n",
       "      <td>Thor: The Dark World</td>\n",
       "      <td>en</td>\n",
       "      <td>Thor fights to restore order across the cosmos...</td>\n",
       "    </tr>\n",
       "    <tr>\n",
       "      <th>9</th>\n",
       "      <td>Captain America: The Winter Soldier</td>\n",
       "      <td>7.7</td>\n",
       "      <td>2014-04-04</td>\n",
       "      <td>Captain America: The Winter Soldier</td>\n",
       "      <td>en</td>\n",
       "      <td>After the cataclysmic events in New York with ...</td>\n",
       "    </tr>\n",
       "    <tr>\n",
       "      <th>10</th>\n",
       "      <td>Guardians of the Galaxy</td>\n",
       "      <td>7.9</td>\n",
       "      <td>2014-08-01</td>\n",
       "      <td>Guardians of the Galaxy</td>\n",
       "      <td>en</td>\n",
       "      <td>Light years from Earth, 26 years after being a...</td>\n",
       "    </tr>\n",
       "  </tbody>\n",
       "</table>\n",
       "</div>"
      ],
      "text/plain": [
       "                                  title  vote_average release_date  \\\n",
       "1    Captain America: The First Avenger           6.9   2011-07-22   \n",
       "2                              Iron Man           7.6   2008-05-02   \n",
       "3                   The Incredible Hulk           6.2   2008-06-12   \n",
       "4                            Iron Man 2           6.8   2010-05-07   \n",
       "5                                  Thor           6.7   2011-05-06   \n",
       "6                          The Avengers           7.7   2012-05-04   \n",
       "7                            Iron Man 3           6.9   2013-05-03   \n",
       "8                  Thor: The Dark World           6.6   2013-11-08   \n",
       "9   Captain America: The Winter Soldier           7.7   2014-04-04   \n",
       "10              Guardians of the Galaxy           7.9   2014-08-01   \n",
       "\n",
       "                         original_title original_language  \\\n",
       "1    Captain America: The First Avenger                en   \n",
       "2                              Iron Man                en   \n",
       "3                   The Incredible Hulk                en   \n",
       "4                            Iron Man 2                en   \n",
       "5                                  Thor                en   \n",
       "6                          The Avengers                en   \n",
       "7                            Iron Man 3                en   \n",
       "8                  Thor: The Dark World                en   \n",
       "9   Captain America: The Winter Soldier                en   \n",
       "10              Guardians of the Galaxy                en   \n",
       "\n",
       "                                             overview  \n",
       "1   During World War II, Steve Rogers is a sickly ...  \n",
       "2   After being held captive in an Afghan cave, bi...  \n",
       "3   Scientist Bruce Banner scours the planet for a...  \n",
       "4   With the world now aware of his dual life as t...  \n",
       "5   Against his father Odin's will, The Mighty Tho...  \n",
       "6   When an unexpected enemy emerges and threatens...  \n",
       "7   When Tony Stark's world is torn apart by a for...  \n",
       "8   Thor fights to restore order across the cosmos...  \n",
       "9   After the cataclysmic events in New York with ...  \n",
       "10  Light years from Earth, 26 years after being a...  "
      ]
     },
     "execution_count": 161,
     "metadata": {},
     "output_type": "execute_result"
    }
   ],
   "source": [
    "mcu_df.head(10)"
   ]
  },
  {
   "cell_type": "code",
   "execution_count": 196,
   "metadata": {},
   "outputs": [],
   "source": [
    "title='Thor'"
   ]
  },
  {
   "cell_type": "code",
   "execution_count": 213,
   "metadata": {},
   "outputs": [
    {
     "name": "stdout",
     "output_type": "stream",
     "text": [
      "Against his father Odin's will, The Mighty Thor - a powerful but arrogant warrior god - recklessly reignites an ancient war. Thor is cast down to Earth and forced to live among humans as punishment. Once here, Thor learns what it takes to be a true hero when the most dangerous villain of his world sends the darkest forces of Asgard to invade Earth.\n"
     ]
    }
   ],
   "source": [
    "counter=1\n",
    "for e in mcu_df['title']:\n",
    "    if e==title:\n",
    "        print(mcu_df['overview'][counter])\n",
    "    else:\n",
    "        counter+=1"
   ]
  },
  {
   "cell_type": "code",
   "execution_count": 232,
   "metadata": {},
   "outputs": [],
   "source": [
    "def overview():\n",
    "    title=input('Tell me a movie and I tell you its overview: ')\n",
    "    os.system('clear')\n",
    "    counter=1\n",
    "    for e in mcu_df['title']:\n",
    "        if e==title:\n",
    "            return print(mcu_df['overview'][counter])\n",
    "        else:\n",
    "            counter+=1"
   ]
  },
  {
   "cell_type": "code",
   "execution_count": 233,
   "metadata": {},
   "outputs": [
    {
     "name": "stdout",
     "output_type": "stream",
     "text": [
      "Tell me a movie and I tell you its overview: Thor\n",
      "Against his father Odin's will, The Mighty Thor - a powerful but arrogant warrior god - recklessly reignites an ancient war. Thor is cast down to Earth and forced to live among humans as punishment. Once here, Thor learns what it takes to be a true hero when the most dangerous villain of his world sends the darkest forces of Asgard to invade Earth.\n"
     ]
    }
   ],
   "source": [
    "overview()"
   ]
  },
  {
   "cell_type": "code",
   "execution_count": null,
   "metadata": {},
   "outputs": [],
   "source": []
  }
 ],
 "metadata": {
  "kernelspec": {
   "display_name": "Python 3",
   "language": "python",
   "name": "python3"
  },
  "language_info": {
   "codemirror_mode": {
    "name": "ipython",
    "version": 3
   },
   "file_extension": ".py",
   "mimetype": "text/x-python",
   "name": "python",
   "nbconvert_exporter": "python",
   "pygments_lexer": "ipython3",
   "version": "3.6.8"
  }
 },
 "nbformat": 4,
 "nbformat_minor": 2
}
