{
 "cells": [
  {
   "cell_type": "code",
   "execution_count": 1,
   "metadata": {},
   "outputs": [
    {
     "data": {
      "text/plain": [
       "True"
      ]
     },
     "execution_count": 1,
     "metadata": {},
     "output_type": "execute_result"
    }
   ],
   "source": [
    "import re\n",
    "import os\n",
    "from dotenv import load_dotenv\n",
    "load_dotenv()"
   ]
  },
  {
   "cell_type": "code",
   "execution_count": 2,
   "metadata": {},
   "outputs": [],
   "source": [
    "import tmdbsimple as tmdb\n",
    "tmdb.API_KEY = os.getenv(\"TOKEN\")"
   ]
  },
  {
   "cell_type": "code",
   "execution_count": 3,
   "metadata": {},
   "outputs": [],
   "source": [
    "search = tmdb.Search()"
   ]
  },
  {
   "cell_type": "code",
   "execution_count": 59,
   "metadata": {},
   "outputs": [
    {
     "name": "stdout",
     "output_type": "stream",
     "text": [
      "Insert movie n1: los vengadores\n"
     ]
    }
   ],
   "source": [
    "movie = search.movie(query=str(input('Insert movie n1: ')))"
   ]
  },
  {
   "cell_type": "code",
   "execution_count": 61,
   "metadata": {},
   "outputs": [
    {
     "data": {
      "text/plain": [
       "[{'popularity': 4.036,\n",
       "  'id': 127475,\n",
       "  'video': False,\n",
       "  'vote_count': 9,\n",
       "  'vote_average': 5.9,\n",
       "  'title': 'The Revengers',\n",
       "  'release_date': '1972-06-21',\n",
       "  'original_language': 'en',\n",
       "  'original_title': 'The Revengers',\n",
       "  'genre_ids': [28, 37, 80],\n",
       "  'backdrop_path': '/gHOAm8uIE0WahfwBNnbr5E8Qc3o.jpg',\n",
       "  'adult': False,\n",
       "  'overview': 'The life of peaceful rancher John Benedict is torn apart when his family is massacred by a gang of marauding outlaws and his farm is destroyed. He assembles a team of mean, lawless convicts to act as his posse as he pursues the gang responsible for the deaths of his loved ones.',\n",
       "  'poster_path': '/ka6FT42dEClEz2GY8dRbNhRMiE2.jpg'},\n",
       " {'popularity': 39.218,\n",
       "  'vote_count': 20868,\n",
       "  'video': False,\n",
       "  'poster_path': '/cezWGskPY5x7GaglTTRN4Fugfb8.jpg',\n",
       "  'id': 24428,\n",
       "  'adult': False,\n",
       "  'backdrop_path': '/hbn46fQaRmlpBuUrEiFqv0GDL6Y.jpg',\n",
       "  'original_language': 'en',\n",
       "  'original_title': 'The Avengers',\n",
       "  'genre_ids': [28, 12, 878],\n",
       "  'title': 'The Avengers',\n",
       "  'vote_average': 7.7,\n",
       "  'overview': 'When an unexpected enemy emerges and threatens global safety and security, Nick Fury, director of the international peacekeeping agency known as S.H.I.E.L.D., finds himself in need of a team to pull the world back from the brink of disaster. Spanning the globe, a daring recruitment effort begins!',\n",
       "  'release_date': '2012-05-04'},\n",
       " {'popularity': 4.728,\n",
       "  'vote_count': 17,\n",
       "  'video': False,\n",
       "  'poster_path': '/fPtBSGKfFiWFPQpWpvzTS5U5a7x.jpg',\n",
       "  'id': 22124,\n",
       "  'adult': False,\n",
       "  'backdrop_path': '/jH8PklUilTV1rK5lQ3IqEQxpDCC.jpg',\n",
       "  'original_language': 'zh',\n",
       "  'original_title': '洪熙官',\n",
       "  'genre_ids': [28],\n",
       "  'title': 'Executioners from Shaolin',\n",
       "  'vote_average': 7.2,\n",
       "  'overview': \"A couple unite - she is fluent in the crane style of kung fu, he in tiger style. They have a son, but the boy's father is killed by the evil eunuch Pai Mei. Disguised as a girl, his mom trains him in crane style while he secretly learns tiger style from his father's training manual.\",\n",
       "  'release_date': '1977-07-29'},\n",
       " {'popularity': 8.906,\n",
       "  'id': 9320,\n",
       "  'video': False,\n",
       "  'vote_count': 373,\n",
       "  'vote_average': 4.3,\n",
       "  'title': 'The Avengers',\n",
       "  'release_date': '1998-08-14',\n",
       "  'original_language': 'en',\n",
       "  'original_title': 'The Avengers',\n",
       "  'genre_ids': [53, 878],\n",
       "  'backdrop_path': '/8YW4rwWQgC2JRlBcpStMNUko13k.jpg',\n",
       "  'adult': False,\n",
       "  'overview': 'British Ministry agent John Steed, under direction from \"Mother\", investigates a diabolical plot by arch-villain Sir August de Wynter to rule the world with his weather control machine. Steed investigates the beautiful Doctor Mrs. Emma Peel, the only suspect, but simultaneously falls for her and joins forces with her to combat Sir August.',\n",
       "  'poster_path': '/7cJGRajXMU2aYdTbElIl6FtzOl2.jpg'},\n",
       " {'popularity': 52.61,\n",
       "  'vote_count': 10128,\n",
       "  'video': False,\n",
       "  'poster_path': '/or06FN3Dka5tukK1e9sl16pB3iy.jpg',\n",
       "  'id': 299534,\n",
       "  'adult': False,\n",
       "  'backdrop_path': '/7RyHsO4yDXtBv1zUU3mTpHeQ0d5.jpg',\n",
       "  'original_language': 'en',\n",
       "  'original_title': 'Avengers: Endgame',\n",
       "  'genre_ids': [28, 12, 878],\n",
       "  'title': 'Avengers: Endgame',\n",
       "  'vote_average': 8.3,\n",
       "  'overview': \"After the devastating events of Avengers: Infinity War, the universe is in ruins due to the efforts of the Mad Titan, Thanos. With the help of remaining allies, the Avengers must assemble once more in order to undo Thanos' actions and restore order to the universe once and for all, no matter what consequences may be in store.\",\n",
       "  'release_date': '2019-04-26'},\n",
       " {'popularity': 7.392,\n",
       "  'vote_count': 106,\n",
       "  'video': False,\n",
       "  'poster_path': '/6zBkbmqB857edSNt08fJpv1Tqqt.jpg',\n",
       "  'id': 257346,\n",
       "  'adult': False,\n",
       "  'backdrop_path': '/kI1AdjSl2o038FQRZTuOqOlZ9VN.jpg',\n",
       "  'original_language': 'ja',\n",
       "  'original_title': 'アベンジャーズ コンフィデンシャル：ブラック・ウィドウ ＆ パニッシャー',\n",
       "  'genre_ids': [28, 16, 878],\n",
       "  'title': 'Avengers Confidential: Black Widow & Punisher',\n",
       "  'vote_average': 5.8,\n",
       "  'overview': 'When the Punisher takes out a black-market weapons dealer, he stumbles upon a far-reaching terrorist plot devised by a group known as Leviathan.',\n",
       "  'release_date': '2014-03-25'},\n",
       " {'popularity': 29.342,\n",
       "  'vote_count': 14490,\n",
       "  'video': False,\n",
       "  'poster_path': '/t90Y3G8UGQp0f0DrP60wRu9gfrH.jpg',\n",
       "  'id': 99861,\n",
       "  'adult': False,\n",
       "  'backdrop_path': '/rFtsE7Lhlc2jRWF7SRAU0fvrveQ.jpg',\n",
       "  'original_language': 'en',\n",
       "  'original_title': 'Avengers: Age of Ultron',\n",
       "  'genre_ids': [28, 12, 878],\n",
       "  'title': 'Avengers: Age of Ultron',\n",
       "  'vote_average': 7.3,\n",
       "  'overview': 'When Tony Stark tries to jumpstart a dormant peacekeeping program, things go awry and Earth’s Mightiest Heroes are put to the ultimate test as the fate of the planet hangs in the balance. As the villainous Ultron emerges, it is up to The Avengers to stop him from enacting his terrible plans, and soon uneasy alliances and unexpected action pave the way for an epic and unique global adventure.',\n",
       "  'release_date': '2015-05-01'},\n",
       " {'popularity': 2.812,\n",
       "  'id': 144094,\n",
       "  'video': False,\n",
       "  'vote_count': 0,\n",
       "  'vote_average': 0,\n",
       "  'title': 'The Avenging Angel',\n",
       "  'release_date': '1995-01-01',\n",
       "  'original_language': 'en',\n",
       "  'original_title': 'The Avenging Angel',\n",
       "  'genre_ids': [37],\n",
       "  'backdrop_path': '/aIa3QwwTjz0fMfShvABTgFeqYgH.jpg',\n",
       "  'adult': False,\n",
       "  'overview': 'Miles Utley is a professional Mormon commando/bodyguard who is forced to turn renegade and to question his faith as he investigates a scandal involving assassination and land speculation.',\n",
       "  'poster_path': '/uiPiWppquuN0hx8vHbR3MWYjjT9.jpg'}]"
      ]
     },
     "execution_count": 61,
     "metadata": {},
     "output_type": "execute_result"
    }
   ],
   "source": [
    "search.results"
   ]
  },
  {
   "cell_type": "code",
   "execution_count": 58,
   "metadata": {},
   "outputs": [
    {
     "name": "stdout",
     "output_type": "stream",
     "text": [
      "The Notebook\n",
      "no match\n",
      "From the Notebook of...\n",
      "no match\n",
      "Be with Me (The Notebook)\n",
      "no match\n",
      "The Daydreamer's Notebook\n",
      "no match\n",
      "The Italian Notebook\n",
      "no match\n",
      "The Notebook\n",
      "no match\n",
      "From the Notebooks of a Cinema Maniac\n",
      "no match\n",
      "The Green Notebook\n",
      "no match\n",
      "The Closed Notebook\n",
      "no match\n"
     ]
    }
   ],
   "source": [
    "for e in search.results:\n",
    "    print(e['title'])\n",
    "    if movie_input == re.match(r'[A-Z-a-z].+?',e['title']):\n",
    "        print(e['title'])\n",
    "    else:\n",
    "        print('no match')"
   ]
  },
  {
   "cell_type": "code",
   "execution_count": null,
   "metadata": {},
   "outputs": [],
   "source": []
  }
 ],
 "metadata": {
  "kernelspec": {
   "display_name": "Python 3",
   "language": "python",
   "name": "python3"
  },
  "language_info": {
   "codemirror_mode": {
    "name": "ipython",
    "version": 3
   },
   "file_extension": ".py",
   "mimetype": "text/x-python",
   "name": "python",
   "nbconvert_exporter": "python",
   "pygments_lexer": "ipython3",
   "version": "3.6.8"
  }
 },
 "nbformat": 4,
 "nbformat_minor": 2
}
