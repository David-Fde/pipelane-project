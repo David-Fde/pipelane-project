{
 "cells": [
  {
   "cell_type": "code",
   "execution_count": 47,
   "metadata": {},
   "outputs": [],
   "source": [
    "import os\n",
    "from dotenv import load_dotenv\n",
    "load_dotenv()\n",
    "import tmdbsimple as tmdb\n",
    "tmdb.API_KEY = os.getenv(\"TOKEN\")\n",
    "import pandas as pd\n",
    "import numpy as np"
   ]
  },
  {
   "cell_type": "code",
   "execution_count": 48,
   "metadata": {},
   "outputs": [],
   "source": [
    "movies_df=pd.DataFrame()"
   ]
  },
  {
   "cell_type": "code",
   "execution_count": 49,
   "metadata": {},
   "outputs": [
    {
     "name": "stdout",
     "output_type": "stream",
     "text": [
      "Insert movie: Doctor strange\n"
     ]
    }
   ],
   "source": [
    "search = tmdb.Search()\n",
    "movie = search.movie(query=str(input('Insert movie: ')))"
   ]
  },
  {
   "cell_type": "code",
   "execution_count": 50,
   "metadata": {},
   "outputs": [],
   "source": [
    "df=pd.DataFrame(search.results[0])\n",
    "df = df.drop(['popularity'],axis=1)\n",
    "df = df.drop(['vote_count'],axis=1)\n",
    "df = df.drop(['video'],axis=1)\n",
    "df = df.drop(['poster_path'],axis=1)\n",
    "df = df.drop(['id'],axis=1)\n",
    "df = df.drop(['adult'],axis=1)\n",
    "df = df.drop(['backdrop_path'],axis=1)\n",
    "df = df.drop(['genre_ids'],axis=1)\n",
    "df = df.reindex(columns=['title','vote_average','release_date','original_title','original_language','overview'])\n",
    "df=df.drop_duplicates()"
   ]
  },
  {
   "cell_type": "code",
   "execution_count": 51,
   "metadata": {},
   "outputs": [],
   "source": [
    "movies_df=pd.concat([movies_df,df])"
   ]
  },
  {
   "cell_type": "code",
   "execution_count": 52,
   "metadata": {},
   "outputs": [
    {
     "data": {
      "text/html": [
       "<div>\n",
       "<style scoped>\n",
       "    .dataframe tbody tr th:only-of-type {\n",
       "        vertical-align: middle;\n",
       "    }\n",
       "\n",
       "    .dataframe tbody tr th {\n",
       "        vertical-align: top;\n",
       "    }\n",
       "\n",
       "    .dataframe thead th {\n",
       "        text-align: right;\n",
       "    }\n",
       "</style>\n",
       "<table border=\"1\" class=\"dataframe\">\n",
       "  <thead>\n",
       "    <tr style=\"text-align: right;\">\n",
       "      <th></th>\n",
       "      <th>title</th>\n",
       "      <th>vote_average</th>\n",
       "      <th>release_date</th>\n",
       "      <th>original_title</th>\n",
       "      <th>original_language</th>\n",
       "      <th>overview</th>\n",
       "    </tr>\n",
       "  </thead>\n",
       "  <tbody>\n",
       "    <tr>\n",
       "      <th>1</th>\n",
       "      <td>Doctor Strange</td>\n",
       "      <td>7.4</td>\n",
       "      <td>2016-11-04</td>\n",
       "      <td>Doctor Strange</td>\n",
       "      <td>en</td>\n",
       "      <td>After his career is destroyed, a brilliant but...</td>\n",
       "    </tr>\n",
       "  </tbody>\n",
       "</table>\n",
       "</div>"
      ],
      "text/plain": [
       "            title  vote_average release_date  original_title  \\\n",
       "1  Doctor Strange           7.4   2016-11-04  Doctor Strange   \n",
       "\n",
       "  original_language                                           overview  \n",
       "1                en  After his career is destroyed, a brilliant but...  "
      ]
     },
     "execution_count": 52,
     "metadata": {},
     "output_type": "execute_result"
    }
   ],
   "source": [
    "movies_df=movies_df.reset_index(drop=True)\n",
    "movies_df.index = np.arange(1, len(movies_df) + 1)\n",
    "movies_df"
   ]
  },
  {
   "cell_type": "code",
   "execution_count": 69,
   "metadata": {},
   "outputs": [],
   "source": [
    "def create_movies_df(movies):\n",
    "    movies_df=pd.DataFrame()\n",
    "    for movie in movies:\n",
    "        search = tmdb.Search()\n",
    "        movie = search.movie(query=movie)\n",
    "        df=pd.DataFrame(search.results[0])\n",
    "        df = df.drop(['popularity','vote_count','video','poster_path','id','adult','backdrop_path','genre_ids'],axis=1)\n",
    "        df = df.reindex(columns=['title','vote_average','release_date','original_title','original_language','overview'])\n",
    "        df=df.drop_duplicates()\n",
    "        movies_df=pd.concat([movies_df,df])\n",
    "        movies=movies_df.reset_index(drop=True)\n",
    "        movies_df.index = np.arange(1, len(movies_df) + 1)\n",
    "    return movies_df"
   ]
  },
  {
   "cell_type": "code",
   "execution_count": 73,
   "metadata": {},
   "outputs": [
    {
     "data": {
      "text/html": [
       "<div>\n",
       "<style scoped>\n",
       "    .dataframe tbody tr th:only-of-type {\n",
       "        vertical-align: middle;\n",
       "    }\n",
       "\n",
       "    .dataframe tbody tr th {\n",
       "        vertical-align: top;\n",
       "    }\n",
       "\n",
       "    .dataframe thead th {\n",
       "        text-align: right;\n",
       "    }\n",
       "</style>\n",
       "<table border=\"1\" class=\"dataframe\">\n",
       "  <thead>\n",
       "    <tr style=\"text-align: right;\">\n",
       "      <th></th>\n",
       "      <th>title</th>\n",
       "      <th>vote_average</th>\n",
       "      <th>release_date</th>\n",
       "      <th>original_title</th>\n",
       "      <th>original_language</th>\n",
       "      <th>overview</th>\n",
       "    </tr>\n",
       "  </thead>\n",
       "  <tbody>\n",
       "    <tr>\n",
       "      <th>1</th>\n",
       "      <td>Thor</td>\n",
       "      <td>6.7</td>\n",
       "      <td>2011-05-06</td>\n",
       "      <td>Thor</td>\n",
       "      <td>en</td>\n",
       "      <td>Against his father Odin's will, The Mighty Tho...</td>\n",
       "    </tr>\n",
       "    <tr>\n",
       "      <th>2</th>\n",
       "      <td>Spider-Man: Far from Home</td>\n",
       "      <td>7.6</td>\n",
       "      <td>2019-07-02</td>\n",
       "      <td>Spider-Man: Far from Home</td>\n",
       "      <td>en</td>\n",
       "      <td>Peter Parker and his friends go on a summer tr...</td>\n",
       "    </tr>\n",
       "    <tr>\n",
       "      <th>3</th>\n",
       "      <td>The Avengers</td>\n",
       "      <td>7.7</td>\n",
       "      <td>2012-05-04</td>\n",
       "      <td>The Avengers</td>\n",
       "      <td>en</td>\n",
       "      <td>When an unexpected enemy emerges and threatens...</td>\n",
       "    </tr>\n",
       "    <tr>\n",
       "      <th>4</th>\n",
       "      <td>Doctor Strange</td>\n",
       "      <td>7.4</td>\n",
       "      <td>2016-11-04</td>\n",
       "      <td>Doctor Strange</td>\n",
       "      <td>en</td>\n",
       "      <td>After his career is destroyed, a brilliant but...</td>\n",
       "    </tr>\n",
       "    <tr>\n",
       "      <th>5</th>\n",
       "      <td>Iron Man 3</td>\n",
       "      <td>6.9</td>\n",
       "      <td>2013-05-03</td>\n",
       "      <td>Iron Man 3</td>\n",
       "      <td>en</td>\n",
       "      <td>When Tony Stark's world is torn apart by a for...</td>\n",
       "    </tr>\n",
       "  </tbody>\n",
       "</table>\n",
       "</div>"
      ],
      "text/plain": [
       "                       title  vote_average release_date  \\\n",
       "1                       Thor           6.7   2011-05-06   \n",
       "2  Spider-Man: Far from Home           7.6   2019-07-02   \n",
       "3               The Avengers           7.7   2012-05-04   \n",
       "4             Doctor Strange           7.4   2016-11-04   \n",
       "5                 Iron Man 3           6.9   2013-05-03   \n",
       "\n",
       "              original_title original_language  \\\n",
       "1                       Thor                en   \n",
       "2  Spider-Man: Far from Home                en   \n",
       "3               The Avengers                en   \n",
       "4             Doctor Strange                en   \n",
       "5                 Iron Man 3                en   \n",
       "\n",
       "                                            overview  \n",
       "1  Against his father Odin's will, The Mighty Tho...  \n",
       "2  Peter Parker and his friends go on a summer tr...  \n",
       "3  When an unexpected enemy emerges and threatens...  \n",
       "4  After his career is destroyed, a brilliant but...  \n",
       "5  When Tony Stark's world is torn apart by a for...  "
      ]
     },
     "execution_count": 73,
     "metadata": {},
     "output_type": "execute_result"
    }
   ],
   "source": [
    "movies=pd.Series(['Thor','Spider man far from home', 'The avengers','Doctor strange','Iron Man 3'])\n",
    "create_movies_df(movies)"
   ]
  },
  {
   "cell_type": "code",
   "execution_count": null,
   "metadata": {},
   "outputs": [],
   "source": []
  }
 ],
 "metadata": {
  "kernelspec": {
   "display_name": "Python 3",
   "language": "python",
   "name": "python3"
  },
  "language_info": {
   "codemirror_mode": {
    "name": "ipython",
    "version": 3
   },
   "file_extension": ".py",
   "mimetype": "text/x-python",
   "name": "python",
   "nbconvert_exporter": "python",
   "pygments_lexer": "ipython3",
   "version": "3.6.8"
  }
 },
 "nbformat": 4,
 "nbformat_minor": 2
}
