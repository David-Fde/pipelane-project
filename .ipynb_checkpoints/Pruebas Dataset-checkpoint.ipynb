{
 "cells": [
  {
   "cell_type": "code",
   "execution_count": 14,
   "metadata": {},
   "outputs": [],
   "source": [
    "import requests\n",
    "\n",
    "\n",
    "res = requests.get(\"https://en.wikipedia.org/wiki/List_of_films_based_on_Marvel_Comics_publications\")\n",
    "html = res.text"
   ]
  },
  {
   "cell_type": "code",
   "execution_count": 15,
   "metadata": {},
   "outputs": [],
   "source": [
    "from bs4 import BeautifulSoup\n",
    "soup = BeautifulSoup(html, 'html.parser')"
   ]
  },
  {
   "cell_type": "code",
   "execution_count": 16,
   "metadata": {},
   "outputs": [],
   "source": [
    "films_table = soup.find_all('table')[0]"
   ]
  },
  {
   "cell_type": "code",
   "execution_count": 37,
   "metadata": {},
   "outputs": [
    {
     "data": {
      "text/plain": [
       "<tr>\n",
       "<td>1944\n",
       "</td>\n",
       "<td><i><a href=\"/wiki/Captain_America_(serial)\" title=\"Captain America (serial)\">Captain America</a></i>\n",
       "</td>\n",
       "<td><a href=\"/wiki/Republic_Pictures\" title=\"Republic Pictures\">Republic Pictures</a>\n",
       "</td>\n",
       "<td>15-chapter <a href=\"/wiki/Serial_film\" title=\"Serial film\">serial film</a>; Marvel was then known as <a href=\"/wiki/Timely_Comics\" title=\"Timely Comics\">Timely Comics</a>\n",
       "</td></tr>"
      ]
     },
     "execution_count": 37,
     "metadata": {},
     "output_type": "execute_result"
    }
   ],
   "source": [
    "rows = films_table.find_all('tr')[1:]\n",
    "\n",
    "rows[0]"
   ]
  },
  {
   "cell_type": "code",
   "execution_count": 57,
   "metadata": {},
   "outputs": [
    {
     "name": "stdout",
     "output_type": "stream",
     "text": [
      "1944\n",
      "\n",
      "1986\n",
      "\n",
      "1989\n",
      "\n",
      "1990\n",
      "\n",
      "1994\n",
      "\n",
      "1998\n",
      "\n",
      "2000\n",
      "\n",
      "2002\n",
      "\n",
      "Spider-Man\n",
      "\n",
      "2003\n",
      "\n",
      "X2\n",
      "\n",
      "Hulk\n",
      "\n",
      "2004\n",
      "\n",
      "Spider-Man 2\n",
      "\n",
      "Blade: Trinity\n",
      "\n",
      "2005\n",
      "\n",
      "Fantastic Four\n",
      "\n",
      "2006\n",
      "\n",
      "2007\n",
      "\n",
      "Spider-Man 3\n",
      "\n",
      "Fantastic Four: Rise of the Silver Surfer\n",
      "\n",
      "2008\n",
      "\n",
      "The Incredible Hulk\n",
      "\n",
      "Punisher: War Zone\n",
      "\n",
      "2009\n",
      "\n",
      "2010\n",
      "\n",
      "2011\n",
      "\n",
      "X-Men: First Class\n",
      "\n",
      "Captain America: The First Avenger\n",
      "\n",
      "Ghost Rider: Spirit of Vengeance\n",
      "\n",
      "2012\n",
      "\n",
      "The Amazing Spider-Man\n",
      "\n",
      "2013\n",
      "\n",
      "The Wolverine\n",
      "\n",
      "Thor: The Dark World\n",
      "\n",
      "2014\n",
      "\n",
      "The Amazing Spider-Man 2\n",
      "\n",
      "X-Men: Days of Future Past\n",
      "\n",
      "Guardians of the Galaxy\n",
      "\n",
      "2015\n",
      "\n",
      "Ant-Man\n",
      "\n",
      "Fantastic Four\n",
      "\n",
      "2016\n",
      "\n",
      "Captain America: Civil War\n",
      "\n",
      "X-Men: Apocalypse\n",
      "\n",
      "Doctor Strange\n",
      "\n",
      "2017\n",
      "\n",
      "Guardians of the Galaxy Vol. 2\n",
      "\n",
      "Spider-Man: Homecoming\n",
      "\n",
      "Thor: Ragnarok\n",
      "\n",
      "2018\n",
      "\n",
      "Avengers: Infinity War\n",
      "\n",
      "Deadpool 2\n",
      "\n",
      "Ant-Man and the Wasp\n",
      "\n",
      "Venom\n",
      "\n",
      "2019\n",
      "\n",
      "Avengers: Endgame\n",
      "\n",
      "Dark Phoenix\n",
      "\n",
      "Spider-Man: Far From Home\n",
      "\n"
     ]
    },
    {
     "ename": "IndexError",
     "evalue": "list index out of range",
     "output_type": "error",
     "traceback": [
      "\u001b[0;31m---------------------------------------------------------------------------\u001b[0m",
      "\u001b[0;31mIndexError\u001b[0m                                Traceback (most recent call last)",
      "\u001b[0;32m<ipython-input-57-e4064c90365f>\u001b[0m in \u001b[0;36m<module>\u001b[0;34m\u001b[0m\n\u001b[1;32m      1\u001b[0m \u001b[0;32mfor\u001b[0m \u001b[0mrow\u001b[0m \u001b[0;32min\u001b[0m \u001b[0mrows\u001b[0m\u001b[0;34m:\u001b[0m\u001b[0;34m\u001b[0m\u001b[0;34m\u001b[0m\u001b[0m\n\u001b[1;32m      2\u001b[0m     \u001b[0mcells\u001b[0m \u001b[0;34m=\u001b[0m \u001b[0mrow\u001b[0m\u001b[0;34m.\u001b[0m\u001b[0mfind_all\u001b[0m\u001b[0;34m(\u001b[0m\u001b[0;34m'td'\u001b[0m\u001b[0;34m)\u001b[0m\u001b[0;34m\u001b[0m\u001b[0;34m\u001b[0m\u001b[0m\n\u001b[0;32m----> 3\u001b[0;31m     \u001b[0mprint\u001b[0m\u001b[0;34m(\u001b[0m\u001b[0mcells\u001b[0m\u001b[0;34m[\u001b[0m\u001b[0;36m0\u001b[0m\u001b[0;34m]\u001b[0m\u001b[0;34m.\u001b[0m\u001b[0mtext\u001b[0m\u001b[0;34m)\u001b[0m\u001b[0;34m\u001b[0m\u001b[0;34m\u001b[0m\u001b[0m\n\u001b[0m",
      "\u001b[0;31mIndexError\u001b[0m: list index out of range"
     ]
    }
   ],
   "source": [
    "for row in rows:\n",
    "    cells = row.find_all('td')\n",
    "    print(cells[0].text)"
   ]
  },
  {
   "cell_type": "code",
   "execution_count": 48,
   "metadata": {},
   "outputs": [
    {
     "data": {
      "text/plain": [
       "[<td><i><a href=\"/wiki/The_Eternals_(film)\" title=\"The Eternals (film)\">The Eternals</a></i>\n",
       " </td>, <td>Marvel Studios\n",
       " </td>, <td>Filming<sup class=\"reference\" id=\"cite_ref-7\"><a href=\"#cite_note-7\">[7]</a></sup>\n",
       " </td>]"
      ]
     },
     "execution_count": 48,
     "metadata": {},
     "output_type": "execute_result"
    }
   ],
   "source": [
    "cells"
   ]
  },
  {
   "cell_type": "code",
   "execution_count": 31,
   "metadata": {},
   "outputs": [
    {
     "ename": "IndexError",
     "evalue": "list index out of range",
     "output_type": "error",
     "traceback": [
      "\u001b[0;31m---------------------------------------------------------------------------\u001b[0m",
      "\u001b[0;31mIndexError\u001b[0m                                Traceback (most recent call last)",
      "\u001b[0;32m<ipython-input-31-6cb2e349d729>\u001b[0m in \u001b[0;36m<module>\u001b[0;34m\u001b[0m\n\u001b[1;32m      5\u001b[0m         \u001b[0;34m\"Year\"\u001b[0m\u001b[0;34m:\u001b[0m \u001b[0mcells\u001b[0m\u001b[0;34m[\u001b[0m\u001b[0;36m1\u001b[0m\u001b[0;34m]\u001b[0m\u001b[0;34m.\u001b[0m\u001b[0mtext\u001b[0m\u001b[0;34m,\u001b[0m\u001b[0;34m\u001b[0m\u001b[0;34m\u001b[0m\u001b[0m\n\u001b[1;32m      6\u001b[0m         \u001b[0;34m\"Title\"\u001b[0m\u001b[0;34m:\u001b[0m \u001b[0mcells\u001b[0m\u001b[0;34m[\u001b[0m\u001b[0;36m2\u001b[0m\u001b[0;34m]\u001b[0m\u001b[0;34m.\u001b[0m\u001b[0mfind\u001b[0m\u001b[0;34m(\u001b[0m\u001b[0;34m'title'\u001b[0m\u001b[0;34m)\u001b[0m\u001b[0;34m,\u001b[0m\u001b[0;34m\u001b[0m\u001b[0;34m\u001b[0m\u001b[0m\n\u001b[0;32m----> 7\u001b[0;31m         \u001b[0;34m\"Production Studio(s)\"\u001b[0m\u001b[0;34m:\u001b[0m \u001b[0mcells\u001b[0m\u001b[0;34m[\u001b[0m\u001b[0;36m3\u001b[0m\u001b[0;34m]\u001b[0m\u001b[0;34m.\u001b[0m\u001b[0mfind\u001b[0m\u001b[0;34m(\u001b[0m\u001b[0;34m'title'\u001b[0m\u001b[0;34m)\u001b[0m\u001b[0;34m,\u001b[0m\u001b[0;34m\u001b[0m\u001b[0;34m\u001b[0m\u001b[0m\n\u001b[0m\u001b[1;32m      8\u001b[0m         \u001b[0;34m\"Notes\"\u001b[0m\u001b[0;34m:\u001b[0m \u001b[0mcells\u001b[0m\u001b[0;34m[\u001b[0m\u001b[0;36m3\u001b[0m\u001b[0;34m]\u001b[0m\u001b[0;34m.\u001b[0m\u001b[0mfind\u001b[0m\u001b[0;34m(\u001b[0m\u001b[0;34m'a'\u001b[0m\u001b[0;34m)\u001b[0m\u001b[0;34m\u001b[0m\u001b[0;34m\u001b[0m\u001b[0m\n\u001b[1;32m      9\u001b[0m     }\n",
      "\u001b[0;31mIndexError\u001b[0m: list index out of range"
     ]
    }
   ],
   "source": [
    "films_dict = []\n",
    "for row in rows:\n",
    "    cells = row.find_all('td')\n",
    "    films = {\n",
    "        \"Year\": int(cells[0].text),\n",
    "        \"Title\": cells[2].find('title'),\n",
    "        \"Production Studio(s)\": cells[3].find('title'),\n",
    "        \"Notes\": cells[3].find('a')\n",
    "    }\n",
    "    films_dict.append(cells)\n",
    "    \n",
    "print(medallero)"
   ]
  },
  {
   "cell_type": "code",
   "execution_count": null,
   "metadata": {},
   "outputs": [],
   "source": []
  }
 ],
 "metadata": {
  "kernelspec": {
   "display_name": "Python 3",
   "language": "python",
   "name": "python3"
  },
  "language_info": {
   "codemirror_mode": {
    "name": "ipython",
    "version": 3
   },
   "file_extension": ".py",
   "mimetype": "text/x-python",
   "name": "python",
   "nbconvert_exporter": "python",
   "pygments_lexer": "ipython3",
   "version": "3.6.8"
  }
 },
 "nbformat": 4,
 "nbformat_minor": 2
}
